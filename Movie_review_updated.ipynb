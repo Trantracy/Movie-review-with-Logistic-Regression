{
  "nbformat": 4,
  "nbformat_minor": 0,
  "metadata": {
    "colab": {
      "name": "Movie_review_updated.ipynb",
      "provenance": [],
      "collapsed_sections": [],
      "machine_shape": "hm",
      "include_colab_link": true
    },
    "kernelspec": {
      "name": "python3",
      "display_name": "Python 3"
    }
  },
  "cells": [
    {
      "cell_type": "markdown",
      "metadata": {
        "id": "view-in-github",
        "colab_type": "text"
      },
      "source": [
        "<a href=\"https://colab.research.google.com/github/Trantracy/Movie-review-with-Logistic-Regression/blob/master/Movie_review_updated.ipynb\" target=\"_parent\"><img src=\"https://colab.research.google.com/assets/colab-badge.svg\" alt=\"Open In Colab\"/></a>"
      ]
    },
    {
      "cell_type": "markdown",
      "metadata": {
        "id": "pMow_da0QYYm",
        "colab_type": "text"
      },
      "source": [
        "# The moview review Sentiment Analysis :\n",
        " \n",
        "\n",
        "**STEP 1:** Overview the data\n",
        "\n",
        "**STEP 2:** Cleaning data\n",
        "\n",
        "\n",
        "1.   Lemmatization\n",
        "2.   Stop word\n",
        "3.   Cleanining data\n",
        "4.   TF-IDF\n",
        "\n",
        "**STEP 3:** Classification by Logistic Regression\n",
        "\n"
      ]
    },
    {
      "cell_type": "code",
      "metadata": {
        "id": "S86G78tBtJ0Q",
        "colab_type": "code",
        "outputId": "ccf4e306-4d9d-43ff-aaff-ddce2f9ca35a",
        "colab": {
          "base_uri": "https://localhost:8080/",
          "height": 102
        }
      },
      "source": [
        "# Import libraries\n",
        "import numpy as np\n",
        "import pandas as pd\n",
        "import matplotlib.pyplot as plt\n",
        "import seaborn as sns\n",
        "import re\n",
        "import nltk\n",
        "nltk.download('stopwords')"
      ],
      "execution_count": 0,
      "outputs": [
        {
          "output_type": "stream",
          "text": [
            "/usr/local/lib/python3.6/dist-packages/statsmodels/tools/_testing.py:19: FutureWarning: pandas.util.testing is deprecated. Use the functions in the public API at pandas.testing instead.\n",
            "  import pandas.util.testing as tm\n"
          ],
          "name": "stderr"
        },
        {
          "output_type": "stream",
          "text": [
            "[nltk_data] Downloading package stopwords to /root/nltk_data...\n",
            "[nltk_data]   Unzipping corpora/stopwords.zip.\n"
          ],
          "name": "stdout"
        },
        {
          "output_type": "execute_result",
          "data": {
            "text/plain": [
              "True"
            ]
          },
          "metadata": {
            "tags": []
          },
          "execution_count": 1
        }
      ]
    },
    {
      "cell_type": "code",
      "metadata": {
        "id": "MeuaNT6JqUb8",
        "colab_type": "code",
        "outputId": "084fee98-74ee-42bc-8d8f-dc103899e77d",
        "colab": {
          "base_uri": "https://localhost:8080/",
          "height": 119
        }
      },
      "source": [
        "import string\n",
        "from nltk import pos_tag\n",
        "from nltk.corpus import stopwords\n",
        "from nltk.tokenize import WhitespaceTokenizer\n",
        "from nltk.stem import WordNetLemmatizer\n",
        "from nltk.corpus import wordnet\n",
        "import nltk\n",
        "nltk.download('averaged_perceptron_tagger')\n",
        "nltk.download('wordnet')"
      ],
      "execution_count": 0,
      "outputs": [
        {
          "output_type": "stream",
          "text": [
            "[nltk_data] Downloading package averaged_perceptron_tagger to\n",
            "[nltk_data]     /root/nltk_data...\n",
            "[nltk_data]   Unzipping taggers/averaged_perceptron_tagger.zip.\n",
            "[nltk_data] Downloading package wordnet to /root/nltk_data...\n",
            "[nltk_data]   Unzipping corpora/wordnet.zip.\n"
          ],
          "name": "stdout"
        },
        {
          "output_type": "execute_result",
          "data": {
            "text/plain": [
              "True"
            ]
          },
          "metadata": {
            "tags": []
          },
          "execution_count": 2
        }
      ]
    },
    {
      "cell_type": "code",
      "metadata": {
        "id": "LU3LZCMXtRcs",
        "colab_type": "code",
        "outputId": "8fca64f1-f92c-43d8-8d51-0ee19b92221d",
        "colab": {
          "base_uri": "https://localhost:8080/",
          "height": 122
        }
      },
      "source": [
        "# Mounted to Google drive\n",
        "from google.colab import drive\n",
        "drive.mount('/content/drive')"
      ],
      "execution_count": 0,
      "outputs": [
        {
          "output_type": "stream",
          "text": [
            "Go to this URL in a browser: https://accounts.google.com/o/oauth2/auth?client_id=947318989803-6bn6qk8qdgf4n4g3pfee6491hc0brc4i.apps.googleusercontent.com&redirect_uri=urn%3aietf%3awg%3aoauth%3a2.0%3aoob&response_type=code&scope=email%20https%3a%2f%2fwww.googleapis.com%2fauth%2fdocs.test%20https%3a%2f%2fwww.googleapis.com%2fauth%2fdrive%20https%3a%2f%2fwww.googleapis.com%2fauth%2fdrive.photos.readonly%20https%3a%2f%2fwww.googleapis.com%2fauth%2fpeopleapi.readonly\n",
            "\n",
            "Enter your authorization code:\n",
            "··········\n",
            "Mounted at /content/drive\n"
          ],
          "name": "stdout"
        }
      ]
    },
    {
      "cell_type": "code",
      "metadata": {
        "id": "WRr-V0aatcSp",
        "colab_type": "code",
        "colab": {}
      },
      "source": [
        "# Import the dataset\n",
        "data = pd.read_csv('/content/drive/My Drive/FTMLE - Tonga/Data/movie_review.csv', encoding='utf-8', sep='\\t')"
      ],
      "execution_count": 0,
      "outputs": []
    },
    {
      "cell_type": "code",
      "metadata": {
        "id": "nmB_zSHqxfK8",
        "colab_type": "code",
        "outputId": "ec68a6a7-2fce-4f06-e173-769b5843ba32",
        "colab": {
          "base_uri": "https://localhost:8080/",
          "height": 187
        }
      },
      "source": [
        "# checkout data set. \n",
        "data.info()"
      ],
      "execution_count": 0,
      "outputs": [
        {
          "output_type": "stream",
          "text": [
            "<class 'pandas.core.frame.DataFrame'>\n",
            "RangeIndex: 22500 entries, 0 to 22499\n",
            "Data columns (total 3 columns):\n",
            " #   Column     Non-Null Count  Dtype \n",
            "---  ------     --------------  ----- \n",
            " 0   id         22500 non-null  object\n",
            " 1   review     22500 non-null  object\n",
            " 2   sentiment  22500 non-null  int64 \n",
            "dtypes: int64(1), object(2)\n",
            "memory usage: 527.5+ KB\n"
          ],
          "name": "stdout"
        }
      ]
    },
    {
      "cell_type": "code",
      "metadata": {
        "id": "7QKP892vxhWl",
        "colab_type": "code",
        "outputId": "151ce7d7-f43e-42fe-f544-66eecb4bccd5",
        "colab": {
          "base_uri": "https://localhost:8080/",
          "height": 85
        }
      },
      "source": [
        "# Check missing data\n",
        "data.isnull().sum()"
      ],
      "execution_count": 0,
      "outputs": [
        {
          "output_type": "execute_result",
          "data": {
            "text/plain": [
              "id           0\n",
              "review       0\n",
              "sentiment    0\n",
              "dtype: int64"
            ]
          },
          "metadata": {
            "tags": []
          },
          "execution_count": 6
        }
      ]
    },
    {
      "cell_type": "code",
      "metadata": {
        "id": "QQvtfh3Nw9uT",
        "colab_type": "code",
        "outputId": "e4ae205f-6c1f-4f9e-ed3d-25f7e269badd",
        "colab": {
          "base_uri": "https://localhost:8080/",
          "height": 359
        }
      },
      "source": [
        "# overview 10 random rows\n",
        "data.sample(10)"
      ],
      "execution_count": 0,
      "outputs": [
        {
          "output_type": "execute_result",
          "data": {
            "text/html": [
              "<div>\n",
              "<style scoped>\n",
              "    .dataframe tbody tr th:only-of-type {\n",
              "        vertical-align: middle;\n",
              "    }\n",
              "\n",
              "    .dataframe tbody tr th {\n",
              "        vertical-align: top;\n",
              "    }\n",
              "\n",
              "    .dataframe thead th {\n",
              "        text-align: right;\n",
              "    }\n",
              "</style>\n",
              "<table border=\"1\" class=\"dataframe\">\n",
              "  <thead>\n",
              "    <tr style=\"text-align: right;\">\n",
              "      <th></th>\n",
              "      <th>id</th>\n",
              "      <th>review</th>\n",
              "      <th>sentiment</th>\n",
              "    </tr>\n",
              "  </thead>\n",
              "  <tbody>\n",
              "    <tr>\n",
              "      <th>10493</th>\n",
              "      <td>9065_10</td>\n",
              "      <td>Watching the commercials for this movie, I was...</td>\n",
              "      <td>1</td>\n",
              "    </tr>\n",
              "    <tr>\n",
              "      <th>6476</th>\n",
              "      <td>3372_9</td>\n",
              "      <td>Its time to pay tribute to the great Charton H...</td>\n",
              "      <td>1</td>\n",
              "    </tr>\n",
              "    <tr>\n",
              "      <th>2943</th>\n",
              "      <td>1609_3</td>\n",
              "      <td>The first part, Che in Cuba, is about that por...</td>\n",
              "      <td>0</td>\n",
              "    </tr>\n",
              "    <tr>\n",
              "      <th>8764</th>\n",
              "      <td>6008_7</td>\n",
              "      <td>When I saw the film for the first time in the ...</td>\n",
              "      <td>1</td>\n",
              "    </tr>\n",
              "    <tr>\n",
              "      <th>14951</th>\n",
              "      <td>3874_3</td>\n",
              "      <td>This film was so predictable, that during the ...</td>\n",
              "      <td>0</td>\n",
              "    </tr>\n",
              "    <tr>\n",
              "      <th>9190</th>\n",
              "      <td>933_2</td>\n",
              "      <td>Undeveloped/unbelievable story line,(by the ti...</td>\n",
              "      <td>0</td>\n",
              "    </tr>\n",
              "    <tr>\n",
              "      <th>12031</th>\n",
              "      <td>9165_10</td>\n",
              "      <td>This has to be the best adaptation I have seen...</td>\n",
              "      <td>1</td>\n",
              "    </tr>\n",
              "    <tr>\n",
              "      <th>18232</th>\n",
              "      <td>9234_4</td>\n",
              "      <td>Remade today, this film would be a very creepy...</td>\n",
              "      <td>0</td>\n",
              "    </tr>\n",
              "    <tr>\n",
              "      <th>20307</th>\n",
              "      <td>6251_1</td>\n",
              "      <td>I was able to hang in for only the first twent...</td>\n",
              "      <td>0</td>\n",
              "    </tr>\n",
              "    <tr>\n",
              "      <th>2684</th>\n",
              "      <td>870_10</td>\n",
              "      <td>\\Read My Lips (Sur mes lÃ¨vres)\\\" (which proba...</td>\n",
              "      <td>1</td>\n",
              "    </tr>\n",
              "  </tbody>\n",
              "</table>\n",
              "</div>"
            ],
            "text/plain": [
              "            id                                             review  sentiment\n",
              "10493  9065_10  Watching the commercials for this movie, I was...          1\n",
              "6476    3372_9  Its time to pay tribute to the great Charton H...          1\n",
              "2943    1609_3  The first part, Che in Cuba, is about that por...          0\n",
              "8764    6008_7  When I saw the film for the first time in the ...          1\n",
              "14951   3874_3  This film was so predictable, that during the ...          0\n",
              "9190     933_2  Undeveloped/unbelievable story line,(by the ti...          0\n",
              "12031  9165_10  This has to be the best adaptation I have seen...          1\n",
              "18232   9234_4  Remade today, this film would be a very creepy...          0\n",
              "20307   6251_1  I was able to hang in for only the first twent...          0\n",
              "2684    870_10  \\Read My Lips (Sur mes lÃ¨vres)\\\" (which proba...          1"
            ]
          },
          "metadata": {
            "tags": []
          },
          "execution_count": 7
        }
      ]
    },
    {
      "cell_type": "code",
      "metadata": {
        "id": "rht1W_1YtiV0",
        "colab_type": "code",
        "outputId": "134aaa93-68c7-4a2f-ad1c-1742cde76861",
        "colab": {
          "base_uri": "https://localhost:8080/",
          "height": 54
        }
      },
      "source": [
        "# get a random  review\n",
        "data.iloc[3000]['review']"
      ],
      "execution_count": 0,
      "outputs": [
        {
          "output_type": "execute_result",
          "data": {
            "text/plain": [
              "'No wonder this movie never saw the light of day. The timing was of the release was awful. The Gong Show had already \\\\jumped the shark\\\\\" by the time the movie came out, so who would pay money just to see a few of the censored clips from the original run of the show? And the show clips are just a tiny bit of this pathetic, 90-minute whine by Chuck Barris about how hard his life was as host of the show. Did he really expect we would feel sorry for him and his messed-up millionaire life? Did he really think we even wanted to KNOW about his life? (Obviously so, since he later wrote his weird autobiography about his career as a CIA operative.) Did he think the gag of having everyone, everywhere audition for him would stay fresh for 90 minutes? Or the network executive hounding him at every turn? This might have worked as the plot for a 30-minute sitcom episode, but not as a full-length movie. However, it was nice to see Rip Taylor, Gene Gene, and the Unknown Comic again (although, to make the movie \\\\\"spicy,\\\\\" they included only his most vulgar routines). And as someone else has pointed out, this is Phil Hartman\\'s first significant movie part (even though it lasts only a minute). Note his name is spelled HARTMANN in the credits, which is the name he was born with. You can\\'t miss his voice and facial expressions, even though he\\'s much thinner and younger than in the SNL days. Ed Molinaro (Hill Street Blues) also has a tiny part; one of his first after leaving the soap world.\"'"
            ]
          },
          "metadata": {
            "tags": []
          },
          "execution_count": 8
        }
      ]
    },
    {
      "cell_type": "code",
      "metadata": {
        "id": "tsn8c_wyvfut",
        "colab_type": "code",
        "outputId": "66117f5e-f636-43c0-9b8a-188a18192427",
        "colab": {
          "base_uri": "https://localhost:8080/",
          "height": 265
        }
      },
      "source": [
        "# Check the balance of labels\n",
        "label = data['sentiment'].value_counts()\n",
        "sns.barplot(x =label.index ,y = label.values)\n",
        "plt.show()\n",
        "# the dataset is highly balanced\n"
      ],
      "execution_count": 0,
      "outputs": [
        {
          "output_type": "display_data",
          "data": {
            "image/png": "[encoded data removed]",
            "text/plain": [
              "<Figure size 432x288 with 1 Axes>"
            ]
          },
          "metadata": {
            "tags": [],
            "needs_background": "light"
          }
        }
      ]
    },
    {
      "cell_type": "markdown",
      "metadata": {
        "id": "XdlujI4XxcU3",
        "colab_type": "text"
      },
      "source": [
        "## Cleaning data"
      ]
    },
    {
      "cell_type": "code",
      "metadata": {
        "id": "qIofN2OXVLvo",
        "colab_type": "code",
        "colab": {}
      },
      "source": [
        "from sklearn.feature_extraction.text import TfidfVectorizer\n",
        "from nltk.stem import PorterStemmer\n",
        "porter = PorterStemmer()\n",
        "def tokenizer_porter(text):\n",
        "    return [porter.stem(word) for word in text.split()]\n",
        "\n",
        "def preprocessor(text):\n",
        "    \"\"\" Return a cleaned version of text\n",
        "    \"\"\"\n",
        "    # Remove HTML markup\n",
        "    text = re.sub('<[^>]*>', '', text)\n",
        "    # Save emoticons to append later\n",
        "    emoticons = re.findall('(?::|;|=)(?:-)?(?:\\)|\\(|D|P)', text)\n",
        "    # Remove any non-word character and append the emoticons. Convert to lower case\n",
        "    text = (re.sub('[\\W]+', ' ', text.lower()) + ' ' + ' '.join(emoticons).replace('-', ''))\n",
        "    \n",
        "    return text\n",
        "\n",
        "tfidf = TfidfVectorizer(stop_words='english',\n",
        "                        tokenizer=tokenizer_porter,\n",
        "                        preprocessor=preprocessor)"
      ],
      "execution_count": 0,
      "outputs": []
    },
    {
      "cell_type": "markdown",
      "metadata": {
        "id": "Md7gej4aJm53",
        "colab_type": "text"
      },
      "source": [
        "## TF- IDF and Classification"
      ]
    },
    {
      "cell_type": "code",
      "metadata": {
        "id": "3wFdqazd14Fr",
        "colab_type": "code",
        "colab": {}
      },
      "source": [
        "# Split the dataset: training and test set\n",
        "from sklearn.model_selection import train_test_split\n",
        "X = data['review']\n",
        "y = data['sentiment']\n",
        "X_train, X_test, y_train, y_test = train_test_split(X,y,test_size = 0.2,random_state = 6)"
      ],
      "execution_count": 0,
      "outputs": []
    },
    {
      "cell_type": "code",
      "metadata": {
        "id": "HlFg6uPjZ4K2",
        "colab_type": "code",
        "outputId": "e8e32882-3fba-4aab-85ed-c8c523c632b0",
        "colab": {
          "base_uri": "https://localhost:8080/",
          "height": 462
        }
      },
      "source": [
        "# Connect LogisticRegression and TfidfVectorizer by Pineline\n",
        "from sklearn.pipeline import Pipeline\n",
        "from sklearn.linear_model import LogisticRegression\n",
        "from sklearn.feature_extraction.text import TfidfVectorizer\n",
        "clf = Pipeline([('vect', tfidf),\n",
        "                ('clf', LogisticRegression(random_state=0))])\n",
        "\n",
        "clf.fit(X_train, y_train)"
      ],
      "execution_count": 0,
      "outputs": [
        {
          "output_type": "stream",
          "text": [
            "/usr/local/lib/python3.6/dist-packages/sklearn/feature_extraction/text.py:385: UserWarning: Your stop_words may be inconsistent with your preprocessing. Tokenizing the stop words generated tokens ['abov', 'afterward', 'alon', 'alreadi', 'alway', 'ani', 'anoth', 'anyon', 'anyth', 'anywher', 'becam', 'becaus', 'becom', 'befor', 'besid', 'cri', 'describ', 'dure', 'els', 'elsewher', 'empti', 'everi', 'everyon', 'everyth', 'everywher', 'fifti', 'formerli', 'forti', 'ha', 'henc', 'hereaft', 'herebi', 'hi', 'howev', 'hundr', 'inde', 'latterli', 'mani', 'meanwhil', 'moreov', 'mostli', 'nobodi', 'noon', 'noth', 'nowher', 'onc', 'onli', 'otherwis', 'ourselv', 'perhap', 'pleas', 'seriou', 'sever', 'sinc', 'sincer', 'sixti', 'someon', 'someth', 'sometim', 'somewher', 'themselv', 'thenc', 'thereaft', 'therebi', 'therefor', 'thi', 'thu', 'togeth', 'twelv', 'twenti', 'veri', 'wa', 'whatev', 'whenc', 'whenev', 'wherea', 'whereaft', 'wherebi', 'wherev', 'whi', 'yourselv'] not in stop_words.\n",
            "  'stop_words.' % sorted(inconsistent))\n"
          ],
          "name": "stderr"
        },
        {
          "output_type": "execute_result",
          "data": {
            "text/plain": [
              "Pipeline(memory=None,\n",
              "         steps=[('vect',\n",
              "                 TfidfVectorizer(analyzer='word', binary=False,\n",
              "                                 decode_error='strict',\n",
              "                                 dtype=<class 'numpy.float64'>,\n",
              "                                 encoding='utf-8', input='content',\n",
              "                                 lowercase=True, max_df=1.0, max_features=None,\n",
              "                                 min_df=1, ngram_range=(1, 1), norm='l2',\n",
              "                                 preprocessor=<function preprocessor at 0x7f2f7a676378>,\n",
              "                                 smooth_idf=True, stop_words='english',\n",
              "                                 strip_accents=N...\n",
              "                                 token_pattern='(?u)\\\\b\\\\w\\\\w+\\\\b',\n",
              "                                 tokenizer=<function tokenizer_porter at 0x7f2f7a676510>,\n",
              "                                 use_idf=True, vocabulary=None)),\n",
              "                ('clf',\n",
              "                 LogisticRegression(C=1.0, class_weight=None, dual=False,\n",
              "                                    fit_intercept=True, intercept_scaling=1,\n",
              "                                    l1_ratio=None, max_iter=100,\n",
              "                                    multi_class='auto', n_jobs=None,\n",
              "                                    penalty='l2', random_state=0,\n",
              "                                    solver='lbfgs', tol=0.0001, verbose=0,\n",
              "                                    warm_start=False))],\n",
              "         verbose=False)"
            ]
          },
          "metadata": {
            "tags": []
          },
          "execution_count": 16
        }
      ]
    },
    {
      "cell_type": "code",
      "metadata": {
        "id": "buTffoO2JECW",
        "colab_type": "code",
        "outputId": "ef042b1e-a740-4398-ffdb-925757cb2daa",
        "colab": {
          "base_uri": "https://localhost:8080/",
          "height": 170
        }
      },
      "source": [
        "# Check accuracy, precision,recall\n",
        "from sklearn.metrics import confusion_matrix, accuracy_score, classification_report\n",
        "print(classification_report(y_test, clf.predict(X_test)))"
      ],
      "execution_count": 0,
      "outputs": [
        {
          "output_type": "stream",
          "text": [
            "              precision    recall  f1-score   support\n",
            "\n",
            "           0       0.90      0.88      0.89      2242\n",
            "           1       0.88      0.90      0.89      2258\n",
            "\n",
            "    accuracy                           0.89      4500\n",
            "   macro avg       0.89      0.89      0.89      4500\n",
            "weighted avg       0.89      0.89      0.89      4500\n",
            "\n"
          ],
          "name": "stdout"
        }
      ]
    },
    {
      "cell_type": "code",
      "metadata": {
        "id": "F6haG7cpPOgh",
        "colab_type": "code",
        "outputId": "89fbcdb2-1666-42d5-be39-af3f612a286a",
        "colab": {
          "base_uri": "https://localhost:8080/",
          "height": 295
        }
      },
      "source": [
        "# Sentiment_model evaluation by ROC Curves\n",
        "from sklearn.metrics import roc_curve, roc_auc_score, auc\n",
        "from sklearn import metrics\n",
        "\n",
        "y_pred_proba = clf.predict_proba(X_test)[::,1]\n",
        "fpr, tpr, _ = metrics.roc_curve(y_test,  y_pred_proba)\n",
        "auc = metrics.roc_auc_score(y_test, y_pred_proba)\n",
        "plt.plot(fpr,tpr,label=\"data 1, auc=\"+str(auc))\n",
        "plt.legend(loc='lower right')\n",
        "plt.ylabel('True Positive Rate')\n",
        "plt.xlabel('False Positive Rate')\n",
        "plt.title('ROC Curves')\n",
        "plt.show()\n"
      ],
      "execution_count": 0,
      "outputs": [
        {
          "output_type": "display_data",
          "data": {
            "image/png": "[encoded data removed]",
            "text/plain": [
              "<Figure size 432x288 with 1 Axes>"
            ]
          },
          "metadata": {
            "tags": [],
            "needs_background": "light"
          }
        }
      ]
    },
    {
      "cell_type": "markdown",
      "metadata": {
        "id": "rfOdazudNNTd",
        "colab_type": "text"
      },
      "source": [
        "### Add the prediction to the DataFrame"
      ]
    },
    {
      "cell_type": "code",
      "metadata": {
        "id": "eMyldf9cPfz4",
        "colab_type": "code",
        "colab": {}
      },
      "source": [
        "prediction = clf.predict(data['review'])\n",
        "data['prediction'] = prediction"
      ],
      "execution_count": 0,
      "outputs": []
    },
    {
      "cell_type": "code",
      "metadata": {
        "id": "abZBkRRfnlZ1",
        "colab_type": "code",
        "outputId": "c0f38c49-b3fb-482a-c34b-54ed2eb0031d",
        "colab": {
          "base_uri": "https://localhost:8080/",
          "height": 419
        }
      },
      "source": [
        "# Original data and prediction\n",
        "data"
      ],
      "execution_count": 0,
      "outputs": [
        {
          "output_type": "execute_result",
          "data": {
            "text/html": [
              "<div>\n",
              "<style scoped>\n",
              "    .dataframe tbody tr th:only-of-type {\n",
              "        vertical-align: middle;\n",
              "    }\n",
              "\n",
              "    .dataframe tbody tr th {\n",
              "        vertical-align: top;\n",
              "    }\n",
              "\n",
              "    .dataframe thead th {\n",
              "        text-align: right;\n",
              "    }\n",
              "</style>\n",
              "<table border=\"1\" class=\"dataframe\">\n",
              "  <thead>\n",
              "    <tr style=\"text-align: right;\">\n",
              "      <th></th>\n",
              "      <th>id</th>\n",
              "      <th>review</th>\n",
              "      <th>sentiment</th>\n",
              "      <th>prediction</th>\n",
              "    </tr>\n",
              "  </thead>\n",
              "  <tbody>\n",
              "    <tr>\n",
              "      <th>0</th>\n",
              "      <td>5814_8</td>\n",
              "      <td>With all this stuff going down at the moment w...</td>\n",
              "      <td>1</td>\n",
              "      <td>1</td>\n",
              "    </tr>\n",
              "    <tr>\n",
              "      <th>1</th>\n",
              "      <td>2381_9</td>\n",
              "      <td>\\The Classic War of the Worlds\\\" by Timothy Hi...</td>\n",
              "      <td>1</td>\n",
              "      <td>1</td>\n",
              "    </tr>\n",
              "    <tr>\n",
              "      <th>2</th>\n",
              "      <td>7759_3</td>\n",
              "      <td>The film starts with a manager (Nicholas Bell)...</td>\n",
              "      <td>0</td>\n",
              "      <td>0</td>\n",
              "    </tr>\n",
              "    <tr>\n",
              "      <th>3</th>\n",
              "      <td>3630_4</td>\n",
              "      <td>It must be assumed that those who praised this...</td>\n",
              "      <td>0</td>\n",
              "      <td>0</td>\n",
              "    </tr>\n",
              "    <tr>\n",
              "      <th>4</th>\n",
              "      <td>9495_8</td>\n",
              "      <td>Superbly trashy and wondrously unpretentious 8...</td>\n",
              "      <td>1</td>\n",
              "      <td>0</td>\n",
              "    </tr>\n",
              "    <tr>\n",
              "      <th>...</th>\n",
              "      <td>...</td>\n",
              "      <td>...</td>\n",
              "      <td>...</td>\n",
              "      <td>...</td>\n",
              "    </tr>\n",
              "    <tr>\n",
              "      <th>22495</th>\n",
              "      <td>3453_3</td>\n",
              "      <td>It seems like more consideration has gone into...</td>\n",
              "      <td>0</td>\n",
              "      <td>0</td>\n",
              "    </tr>\n",
              "    <tr>\n",
              "      <th>22496</th>\n",
              "      <td>5064_1</td>\n",
              "      <td>I don't believe they made this film. Completel...</td>\n",
              "      <td>0</td>\n",
              "      <td>0</td>\n",
              "    </tr>\n",
              "    <tr>\n",
              "      <th>22497</th>\n",
              "      <td>10905_3</td>\n",
              "      <td>Guy is a loser. Can't get girls, needs to buil...</td>\n",
              "      <td>0</td>\n",
              "      <td>0</td>\n",
              "    </tr>\n",
              "    <tr>\n",
              "      <th>22498</th>\n",
              "      <td>10194_3</td>\n",
              "      <td>This 30 minute documentary BuÃ±uel made in the...</td>\n",
              "      <td>0</td>\n",
              "      <td>0</td>\n",
              "    </tr>\n",
              "    <tr>\n",
              "      <th>22499</th>\n",
              "      <td>8478_8</td>\n",
              "      <td>I saw this movie as a child and it broke my he...</td>\n",
              "      <td>1</td>\n",
              "      <td>1</td>\n",
              "    </tr>\n",
              "  </tbody>\n",
              "</table>\n",
              "<p>22500 rows × 4 columns</p>\n",
              "</div>"
            ],
            "text/plain": [
              "            id  ... prediction\n",
              "0       5814_8  ...          1\n",
              "1       2381_9  ...          1\n",
              "2       7759_3  ...          0\n",
              "3       3630_4  ...          0\n",
              "4       9495_8  ...          0\n",
              "...        ...  ...        ...\n",
              "22495   3453_3  ...          0\n",
              "22496   5064_1  ...          0\n",
              "22497  10905_3  ...          0\n",
              "22498  10194_3  ...          0\n",
              "22499   8478_8  ...          1\n",
              "\n",
              "[22500 rows x 4 columns]"
            ]
          },
          "metadata": {
            "tags": []
          },
          "execution_count": 21
        }
      ]
    },
    {
      "cell_type": "markdown",
      "metadata": {
        "id": "4zfLn1GIYXVR",
        "colab_type": "text"
      },
      "source": [
        "## Test setset"
      ]
    },
    {
      "cell_type": "code",
      "metadata": {
        "id": "D_ZP3hZxNPZW",
        "colab_type": "code",
        "colab": {}
      },
      "source": [
        "# Import the dataset\n",
        "test = pd.read_csv('/content/drive/My Drive/FTMLE - Tonga/Data/movie_review_evaluation.csv', encoding='utf-8', sep='\\t')"
      ],
      "execution_count": 0,
      "outputs": []
    },
    {
      "cell_type": "code",
      "metadata": {
        "id": "XNa9NC20L-cX",
        "colab_type": "code",
        "outputId": "fc4e4ffa-129d-49f8-8f0b-5e257282ac9d",
        "colab": {
          "base_uri": "https://localhost:8080/",
          "height": 419
        }
      },
      "source": [
        "# overview test set\n",
        "test\n"
      ],
      "execution_count": 0,
      "outputs": [
        {
          "output_type": "execute_result",
          "data": {
            "text/html": [
              "<div>\n",
              "<style scoped>\n",
              "    .dataframe tbody tr th:only-of-type {\n",
              "        vertical-align: middle;\n",
              "    }\n",
              "\n",
              "    .dataframe tbody tr th {\n",
              "        vertical-align: top;\n",
              "    }\n",
              "\n",
              "    .dataframe thead th {\n",
              "        text-align: right;\n",
              "    }\n",
              "</style>\n",
              "<table border=\"1\" class=\"dataframe\">\n",
              "  <thead>\n",
              "    <tr style=\"text-align: right;\">\n",
              "      <th></th>\n",
              "      <th>id</th>\n",
              "      <th>review</th>\n",
              "    </tr>\n",
              "  </thead>\n",
              "  <tbody>\n",
              "    <tr>\n",
              "      <th>0</th>\n",
              "      <td>10633_1</td>\n",
              "      <td>I watched this video at a friend's house. I'm ...</td>\n",
              "    </tr>\n",
              "    <tr>\n",
              "      <th>1</th>\n",
              "      <td>4489_1</td>\n",
              "      <td>`The Matrix' was an exciting summer blockbuste...</td>\n",
              "    </tr>\n",
              "    <tr>\n",
              "      <th>2</th>\n",
              "      <td>3304_10</td>\n",
              "      <td>This movie is one among the very few Indian mo...</td>\n",
              "    </tr>\n",
              "    <tr>\n",
              "      <th>3</th>\n",
              "      <td>3350_3</td>\n",
              "      <td>The script for this movie was probably found i...</td>\n",
              "    </tr>\n",
              "    <tr>\n",
              "      <th>4</th>\n",
              "      <td>1119_1</td>\n",
              "      <td>Even if this film was allegedly a joke in resp...</td>\n",
              "    </tr>\n",
              "    <tr>\n",
              "      <th>...</th>\n",
              "      <td>...</td>\n",
              "      <td>...</td>\n",
              "    </tr>\n",
              "    <tr>\n",
              "      <th>2495</th>\n",
              "      <td>1065_10</td>\n",
              "      <td>Dark Angel is a futuristic sci-fi series, set ...</td>\n",
              "    </tr>\n",
              "    <tr>\n",
              "      <th>2496</th>\n",
              "      <td>7261_3</td>\n",
              "      <td>This British-Spanish co-production is one of t...</td>\n",
              "    </tr>\n",
              "    <tr>\n",
              "      <th>2497</th>\n",
              "      <td>11075_10</td>\n",
              "      <td>Having read the reviews for this film, I under...</td>\n",
              "    </tr>\n",
              "    <tr>\n",
              "      <th>2498</th>\n",
              "      <td>2041_2</td>\n",
              "      <td>Well I'll start with the good points. The movi...</td>\n",
              "    </tr>\n",
              "    <tr>\n",
              "      <th>2499</th>\n",
              "      <td>1988_9</td>\n",
              "      <td>First off, I'd like to make a correction on an...</td>\n",
              "    </tr>\n",
              "  </tbody>\n",
              "</table>\n",
              "<p>2500 rows × 2 columns</p>\n",
              "</div>"
            ],
            "text/plain": [
              "            id                                             review\n",
              "0      10633_1  I watched this video at a friend's house. I'm ...\n",
              "1       4489_1  `The Matrix' was an exciting summer blockbuste...\n",
              "2      3304_10  This movie is one among the very few Indian mo...\n",
              "3       3350_3  The script for this movie was probably found i...\n",
              "4       1119_1  Even if this film was allegedly a joke in resp...\n",
              "...        ...                                                ...\n",
              "2495   1065_10  Dark Angel is a futuristic sci-fi series, set ...\n",
              "2496    7261_3  This British-Spanish co-production is one of t...\n",
              "2497  11075_10  Having read the reviews for this film, I under...\n",
              "2498    2041_2  Well I'll start with the good points. The movi...\n",
              "2499    1988_9  First off, I'd like to make a correction on an...\n",
              "\n",
              "[2500 rows x 2 columns]"
            ]
          },
          "metadata": {
            "tags": []
          },
          "execution_count": 23
        }
      ]
    },
    {
      "cell_type": "code",
      "metadata": {
        "id": "eGk2kKvibu-s",
        "colab_type": "code",
        "colab": {}
      },
      "source": [
        "# prediction on test set\n",
        "prediction2 = clf.predict(test['review'])"
      ],
      "execution_count": 0,
      "outputs": []
    },
    {
      "cell_type": "code",
      "metadata": {
        "id": "SAfLgX4NY75n",
        "colab_type": "code",
        "colab": {}
      },
      "source": [
        "# Add prediction on to the original data\n",
        "test['prediction'] = prediction2"
      ],
      "execution_count": 0,
      "outputs": []
    },
    {
      "cell_type": "code",
      "metadata": {
        "id": "sy2apu9laCy2",
        "colab_type": "code",
        "outputId": "bbd941aa-1320-4035-9d31-0d027df9048a",
        "colab": {
          "base_uri": "https://localhost:8080/",
          "height": 419
        }
      },
      "source": [
        "# overview test set with prediction\n",
        "test"
      ],
      "execution_count": 0,
      "outputs": [
        {
          "output_type": "execute_result",
          "data": {
            "text/html": [
              "<div>\n",
              "<style scoped>\n",
              "    .dataframe tbody tr th:only-of-type {\n",
              "        vertical-align: middle;\n",
              "    }\n",
              "\n",
              "    .dataframe tbody tr th {\n",
              "        vertical-align: top;\n",
              "    }\n",
              "\n",
              "    .dataframe thead th {\n",
              "        text-align: right;\n",
              "    }\n",
              "</style>\n",
              "<table border=\"1\" class=\"dataframe\">\n",
              "  <thead>\n",
              "    <tr style=\"text-align: right;\">\n",
              "      <th></th>\n",
              "      <th>id</th>\n",
              "      <th>review</th>\n",
              "      <th>prediction</th>\n",
              "    </tr>\n",
              "  </thead>\n",
              "  <tbody>\n",
              "    <tr>\n",
              "      <th>0</th>\n",
              "      <td>10633_1</td>\n",
              "      <td>I watched this video at a friend's house. I'm ...</td>\n",
              "      <td>0</td>\n",
              "    </tr>\n",
              "    <tr>\n",
              "      <th>1</th>\n",
              "      <td>4489_1</td>\n",
              "      <td>`The Matrix' was an exciting summer blockbuste...</td>\n",
              "      <td>0</td>\n",
              "    </tr>\n",
              "    <tr>\n",
              "      <th>2</th>\n",
              "      <td>3304_10</td>\n",
              "      <td>This movie is one among the very few Indian mo...</td>\n",
              "      <td>1</td>\n",
              "    </tr>\n",
              "    <tr>\n",
              "      <th>3</th>\n",
              "      <td>3350_3</td>\n",
              "      <td>The script for this movie was probably found i...</td>\n",
              "      <td>0</td>\n",
              "    </tr>\n",
              "    <tr>\n",
              "      <th>4</th>\n",
              "      <td>1119_1</td>\n",
              "      <td>Even if this film was allegedly a joke in resp...</td>\n",
              "      <td>0</td>\n",
              "    </tr>\n",
              "    <tr>\n",
              "      <th>...</th>\n",
              "      <td>...</td>\n",
              "      <td>...</td>\n",
              "      <td>...</td>\n",
              "    </tr>\n",
              "    <tr>\n",
              "      <th>2495</th>\n",
              "      <td>1065_10</td>\n",
              "      <td>Dark Angel is a futuristic sci-fi series, set ...</td>\n",
              "      <td>1</td>\n",
              "    </tr>\n",
              "    <tr>\n",
              "      <th>2496</th>\n",
              "      <td>7261_3</td>\n",
              "      <td>This British-Spanish co-production is one of t...</td>\n",
              "      <td>0</td>\n",
              "    </tr>\n",
              "    <tr>\n",
              "      <th>2497</th>\n",
              "      <td>11075_10</td>\n",
              "      <td>Having read the reviews for this film, I under...</td>\n",
              "      <td>1</td>\n",
              "    </tr>\n",
              "    <tr>\n",
              "      <th>2498</th>\n",
              "      <td>2041_2</td>\n",
              "      <td>Well I'll start with the good points. The movi...</td>\n",
              "      <td>0</td>\n",
              "    </tr>\n",
              "    <tr>\n",
              "      <th>2499</th>\n",
              "      <td>1988_9</td>\n",
              "      <td>First off, I'd like to make a correction on an...</td>\n",
              "      <td>1</td>\n",
              "    </tr>\n",
              "  </tbody>\n",
              "</table>\n",
              "<p>2500 rows × 3 columns</p>\n",
              "</div>"
            ],
            "text/plain": [
              "            id                                             review  prediction\n",
              "0      10633_1  I watched this video at a friend's house. I'm ...           0\n",
              "1       4489_1  `The Matrix' was an exciting summer blockbuste...           0\n",
              "2      3304_10  This movie is one among the very few Indian mo...           1\n",
              "3       3350_3  The script for this movie was probably found i...           0\n",
              "4       1119_1  Even if this film was allegedly a joke in resp...           0\n",
              "...        ...                                                ...         ...\n",
              "2495   1065_10  Dark Angel is a futuristic sci-fi series, set ...           1\n",
              "2496    7261_3  This British-Spanish co-production is one of t...           0\n",
              "2497  11075_10  Having read the reviews for this film, I under...           1\n",
              "2498    2041_2  Well I'll start with the good points. The movi...           0\n",
              "2499    1988_9  First off, I'd like to make a correction on an...           1\n",
              "\n",
              "[2500 rows x 3 columns]"
            ]
          },
          "metadata": {
            "tags": []
          },
          "execution_count": 29
        }
      ]
    },
    {
      "cell_type": "code",
      "metadata": {
        "id": "r7Nngq67ZdmG",
        "colab_type": "code",
        "colab": {}
      },
      "source": [
        "#save to the csv file\n",
        "test.to_csv(r'Tran.csv',index=False,encoding='utf-8')"
      ],
      "execution_count": 0,
      "outputs": []
    }
  ]
}